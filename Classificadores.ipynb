{
  "nbformat": 4,
  "nbformat_minor": 0,
  "metadata": {
    "colab": {
      "name": "Classificadores.ipynb",
      "provenance": [],
      "authorship_tag": "ABX9TyNe97p1X2J5gmfH5aY9X9fD",
      "include_colab_link": true
    },
    "kernelspec": {
      "name": "python3",
      "display_name": "Python 3"
    }
  },
  "cells": [
    {
      "cell_type": "markdown",
      "metadata": {
        "id": "view-in-github",
        "colab_type": "text"
      },
      "source": [
        "<a href=\"https://colab.research.google.com/github/samusolva/algoritmos_clasificacao/blob/main/Classificadores.ipynb\" target=\"_parent\"><img src=\"https://colab.research.google.com/assets/colab-badge.svg\" alt=\"Open In Colab\"/></a>"
      ]
    },
    {
      "cell_type": "code",
      "metadata": {
        "colab": {
          "base_uri": "https://localhost:8080/"
        },
        "id": "xalt82uqIb7Z",
        "outputId": "e112fabb-fd69-4c91-dd74-1119305c4bd8"
      },
      "source": [
        "!pip install graphviz==0.10\n",
        "!apt-get install graphviz"
      ],
      "execution_count": 1,
      "outputs": [
        {
          "output_type": "stream",
          "text": [
            "Collecting graphviz==0.10\n",
            "  Downloading https://files.pythonhosted.org/packages/a1/33/a0d49e007ce2f55954eb5d2058817af18f4e22ea69142880e1c46d32c37b/graphviz-0.10-py2.py3-none-any.whl\n",
            "Installing collected packages: graphviz\n",
            "  Found existing installation: graphviz 0.10.1\n",
            "    Uninstalling graphviz-0.10.1:\n",
            "      Successfully uninstalled graphviz-0.10.1\n",
            "Successfully installed graphviz-0.10\n",
            "Reading package lists... Done\n",
            "Building dependency tree       \n",
            "Reading state information... Done\n",
            "graphviz is already the newest version (2.40.1-2).\n",
            "0 upgraded, 0 newly installed, 0 to remove and 29 not upgraded.\n"
          ],
          "name": "stdout"
        }
      ]
    },
    {
      "cell_type": "code",
      "metadata": {
        "id": "g1h-xu9KIqWk"
      },
      "source": [
        "#importa Bibliotecas\n",
        "import pandas as pd\n",
        "import numpy as np\n",
        "from datetime import datetime\n",
        "from sklearn.dummy import DummyClassifier\n",
        "from sklearn.model_selection import train_test_split\n",
        "from sklearn.svm import LinearSVC\n",
        "from sklearn.metrics import accuracy_score\n",
        "from sklearn.svm import SVC\n",
        "from sklearn.preprocessing import StandardScaler\n",
        "from sklearn.tree import DecisionTreeClassifier\n",
        "from sklearn.tree import export_graphviz\n",
        "import graphviz"
      ],
      "execution_count": 41,
      "outputs": []
    },
    {
      "cell_type": "code",
      "metadata": {
        "colab": {
          "base_uri": "https://localhost:8080/",
          "height": 204
        },
        "id": "bdt4tOddIz5r",
        "outputId": "92112ff9-1cc4-4fdd-b8d9-cc712cd18c76"
      },
      "source": [
        "#importa dados\n",
        "url = \"https://gist.githubusercontent.com/guilhermesilveira/4d1d4a16ccbf6ea4e0a64a38a24ec884/raw/afd05cb0c796d18f3f5a6537053ded308ba94bf7/car-prices.csv\"\n",
        "dados = pd.read_csv(url)\n",
        "dados.head()"
      ],
      "execution_count": 3,
      "outputs": [
        {
          "output_type": "execute_result",
          "data": {
            "text/html": [
              "<div>\n",
              "<style scoped>\n",
              "    .dataframe tbody tr th:only-of-type {\n",
              "        vertical-align: middle;\n",
              "    }\n",
              "\n",
              "    .dataframe tbody tr th {\n",
              "        vertical-align: top;\n",
              "    }\n",
              "\n",
              "    .dataframe thead th {\n",
              "        text-align: right;\n",
              "    }\n",
              "</style>\n",
              "<table border=\"1\" class=\"dataframe\">\n",
              "  <thead>\n",
              "    <tr style=\"text-align: right;\">\n",
              "      <th></th>\n",
              "      <th>Unnamed: 0</th>\n",
              "      <th>mileage_per_year</th>\n",
              "      <th>model_year</th>\n",
              "      <th>price</th>\n",
              "      <th>sold</th>\n",
              "    </tr>\n",
              "  </thead>\n",
              "  <tbody>\n",
              "    <tr>\n",
              "      <th>0</th>\n",
              "      <td>0</td>\n",
              "      <td>21801</td>\n",
              "      <td>2000</td>\n",
              "      <td>30941.02</td>\n",
              "      <td>yes</td>\n",
              "    </tr>\n",
              "    <tr>\n",
              "      <th>1</th>\n",
              "      <td>1</td>\n",
              "      <td>7843</td>\n",
              "      <td>1998</td>\n",
              "      <td>40557.96</td>\n",
              "      <td>yes</td>\n",
              "    </tr>\n",
              "    <tr>\n",
              "      <th>2</th>\n",
              "      <td>2</td>\n",
              "      <td>7109</td>\n",
              "      <td>2006</td>\n",
              "      <td>89627.50</td>\n",
              "      <td>no</td>\n",
              "    </tr>\n",
              "    <tr>\n",
              "      <th>3</th>\n",
              "      <td>3</td>\n",
              "      <td>26823</td>\n",
              "      <td>2015</td>\n",
              "      <td>95276.14</td>\n",
              "      <td>no</td>\n",
              "    </tr>\n",
              "    <tr>\n",
              "      <th>4</th>\n",
              "      <td>4</td>\n",
              "      <td>7935</td>\n",
              "      <td>2014</td>\n",
              "      <td>117384.68</td>\n",
              "      <td>yes</td>\n",
              "    </tr>\n",
              "  </tbody>\n",
              "</table>\n",
              "</div>"
            ],
            "text/plain": [
              "   Unnamed: 0  mileage_per_year  model_year      price sold\n",
              "0           0             21801        2000   30941.02  yes\n",
              "1           1              7843        1998   40557.96  yes\n",
              "2           2              7109        2006   89627.50   no\n",
              "3           3             26823        2015   95276.14   no\n",
              "4           4              7935        2014  117384.68  yes"
            ]
          },
          "metadata": {
            "tags": []
          },
          "execution_count": 3
        }
      ]
    },
    {
      "cell_type": "code",
      "metadata": {
        "colab": {
          "base_uri": "https://localhost:8080/",
          "height": 204
        },
        "id": "uh7jcO-UJP1R",
        "outputId": "ecd67ab5-f3ca-4130-a711-baebe96d7e04"
      },
      "source": [
        "#cria dicionario para trocar nome das colunas\n",
        "colunas = {\n",
        "    'mileage_per_year':'milhas_por_ano',\n",
        "    'model_year':'ano_modelo',\n",
        "    'price':'preco',\n",
        "    'sold':'vendido'\n",
        "}\n",
        "\n",
        "dados = dados.rename(columns=colunas)\n",
        "dados.head()"
      ],
      "execution_count": 4,
      "outputs": [
        {
          "output_type": "execute_result",
          "data": {
            "text/html": [
              "<div>\n",
              "<style scoped>\n",
              "    .dataframe tbody tr th:only-of-type {\n",
              "        vertical-align: middle;\n",
              "    }\n",
              "\n",
              "    .dataframe tbody tr th {\n",
              "        vertical-align: top;\n",
              "    }\n",
              "\n",
              "    .dataframe thead th {\n",
              "        text-align: right;\n",
              "    }\n",
              "</style>\n",
              "<table border=\"1\" class=\"dataframe\">\n",
              "  <thead>\n",
              "    <tr style=\"text-align: right;\">\n",
              "      <th></th>\n",
              "      <th>Unnamed: 0</th>\n",
              "      <th>milhas_por_ano</th>\n",
              "      <th>ano_modelo</th>\n",
              "      <th>preco</th>\n",
              "      <th>vendido</th>\n",
              "    </tr>\n",
              "  </thead>\n",
              "  <tbody>\n",
              "    <tr>\n",
              "      <th>0</th>\n",
              "      <td>0</td>\n",
              "      <td>21801</td>\n",
              "      <td>2000</td>\n",
              "      <td>30941.02</td>\n",
              "      <td>yes</td>\n",
              "    </tr>\n",
              "    <tr>\n",
              "      <th>1</th>\n",
              "      <td>1</td>\n",
              "      <td>7843</td>\n",
              "      <td>1998</td>\n",
              "      <td>40557.96</td>\n",
              "      <td>yes</td>\n",
              "    </tr>\n",
              "    <tr>\n",
              "      <th>2</th>\n",
              "      <td>2</td>\n",
              "      <td>7109</td>\n",
              "      <td>2006</td>\n",
              "      <td>89627.50</td>\n",
              "      <td>no</td>\n",
              "    </tr>\n",
              "    <tr>\n",
              "      <th>3</th>\n",
              "      <td>3</td>\n",
              "      <td>26823</td>\n",
              "      <td>2015</td>\n",
              "      <td>95276.14</td>\n",
              "      <td>no</td>\n",
              "    </tr>\n",
              "    <tr>\n",
              "      <th>4</th>\n",
              "      <td>4</td>\n",
              "      <td>7935</td>\n",
              "      <td>2014</td>\n",
              "      <td>117384.68</td>\n",
              "      <td>yes</td>\n",
              "    </tr>\n",
              "  </tbody>\n",
              "</table>\n",
              "</div>"
            ],
            "text/plain": [
              "   Unnamed: 0  milhas_por_ano  ano_modelo      preco vendido\n",
              "0           0           21801        2000   30941.02     yes\n",
              "1           1            7843        1998   40557.96     yes\n",
              "2           2            7109        2006   89627.50      no\n",
              "3           3           26823        2015   95276.14      no\n",
              "4           4            7935        2014  117384.68     yes"
            ]
          },
          "metadata": {
            "tags": []
          },
          "execution_count": 4
        }
      ]
    },
    {
      "cell_type": "code",
      "metadata": {
        "colab": {
          "base_uri": "https://localhost:8080/",
          "height": 204
        },
        "id": "k6_HdugJKC_g",
        "outputId": "f194896b-3600-4128-d3e5-84112b815c3c"
      },
      "source": [
        "#altera coluna vendido pra dados binarios\n",
        "vendido = {\n",
        "    'yes':'1',\n",
        "    'no':'0'\n",
        "}\n",
        "dados.vendido = dados.vendido.map(vendido)\n",
        "dados.head() "
      ],
      "execution_count": 5,
      "outputs": [
        {
          "output_type": "execute_result",
          "data": {
            "text/html": [
              "<div>\n",
              "<style scoped>\n",
              "    .dataframe tbody tr th:only-of-type {\n",
              "        vertical-align: middle;\n",
              "    }\n",
              "\n",
              "    .dataframe tbody tr th {\n",
              "        vertical-align: top;\n",
              "    }\n",
              "\n",
              "    .dataframe thead th {\n",
              "        text-align: right;\n",
              "    }\n",
              "</style>\n",
              "<table border=\"1\" class=\"dataframe\">\n",
              "  <thead>\n",
              "    <tr style=\"text-align: right;\">\n",
              "      <th></th>\n",
              "      <th>Unnamed: 0</th>\n",
              "      <th>milhas_por_ano</th>\n",
              "      <th>ano_modelo</th>\n",
              "      <th>preco</th>\n",
              "      <th>vendido</th>\n",
              "    </tr>\n",
              "  </thead>\n",
              "  <tbody>\n",
              "    <tr>\n",
              "      <th>0</th>\n",
              "      <td>0</td>\n",
              "      <td>21801</td>\n",
              "      <td>2000</td>\n",
              "      <td>30941.02</td>\n",
              "      <td>1</td>\n",
              "    </tr>\n",
              "    <tr>\n",
              "      <th>1</th>\n",
              "      <td>1</td>\n",
              "      <td>7843</td>\n",
              "      <td>1998</td>\n",
              "      <td>40557.96</td>\n",
              "      <td>1</td>\n",
              "    </tr>\n",
              "    <tr>\n",
              "      <th>2</th>\n",
              "      <td>2</td>\n",
              "      <td>7109</td>\n",
              "      <td>2006</td>\n",
              "      <td>89627.50</td>\n",
              "      <td>0</td>\n",
              "    </tr>\n",
              "    <tr>\n",
              "      <th>3</th>\n",
              "      <td>3</td>\n",
              "      <td>26823</td>\n",
              "      <td>2015</td>\n",
              "      <td>95276.14</td>\n",
              "      <td>0</td>\n",
              "    </tr>\n",
              "    <tr>\n",
              "      <th>4</th>\n",
              "      <td>4</td>\n",
              "      <td>7935</td>\n",
              "      <td>2014</td>\n",
              "      <td>117384.68</td>\n",
              "      <td>1</td>\n",
              "    </tr>\n",
              "  </tbody>\n",
              "</table>\n",
              "</div>"
            ],
            "text/plain": [
              "   Unnamed: 0  milhas_por_ano  ano_modelo      preco vendido\n",
              "0           0           21801        2000   30941.02       1\n",
              "1           1            7843        1998   40557.96       1\n",
              "2           2            7109        2006   89627.50       0\n",
              "3           3           26823        2015   95276.14       0\n",
              "4           4            7935        2014  117384.68       1"
            ]
          },
          "metadata": {
            "tags": []
          },
          "execution_count": 5
        }
      ]
    },
    {
      "cell_type": "code",
      "metadata": {
        "colab": {
          "base_uri": "https://localhost:8080/",
          "height": 204
        },
        "id": "Wpl7rlIRLKeX",
        "outputId": "b8f9d54f-8bbc-4c4d-d87f-ce346e54d703"
      },
      "source": [
        "#calcula o tempo de uso de cada carro\n",
        "ano_atual = datetime.today().year\n",
        "dados['idade'] = ano_atual - dados.ano_modelo\n",
        "dados.head()"
      ],
      "execution_count": 6,
      "outputs": [
        {
          "output_type": "execute_result",
          "data": {
            "text/html": [
              "<div>\n",
              "<style scoped>\n",
              "    .dataframe tbody tr th:only-of-type {\n",
              "        vertical-align: middle;\n",
              "    }\n",
              "\n",
              "    .dataframe tbody tr th {\n",
              "        vertical-align: top;\n",
              "    }\n",
              "\n",
              "    .dataframe thead th {\n",
              "        text-align: right;\n",
              "    }\n",
              "</style>\n",
              "<table border=\"1\" class=\"dataframe\">\n",
              "  <thead>\n",
              "    <tr style=\"text-align: right;\">\n",
              "      <th></th>\n",
              "      <th>Unnamed: 0</th>\n",
              "      <th>milhas_por_ano</th>\n",
              "      <th>ano_modelo</th>\n",
              "      <th>preco</th>\n",
              "      <th>vendido</th>\n",
              "      <th>idade</th>\n",
              "    </tr>\n",
              "  </thead>\n",
              "  <tbody>\n",
              "    <tr>\n",
              "      <th>0</th>\n",
              "      <td>0</td>\n",
              "      <td>21801</td>\n",
              "      <td>2000</td>\n",
              "      <td>30941.02</td>\n",
              "      <td>1</td>\n",
              "      <td>21</td>\n",
              "    </tr>\n",
              "    <tr>\n",
              "      <th>1</th>\n",
              "      <td>1</td>\n",
              "      <td>7843</td>\n",
              "      <td>1998</td>\n",
              "      <td>40557.96</td>\n",
              "      <td>1</td>\n",
              "      <td>23</td>\n",
              "    </tr>\n",
              "    <tr>\n",
              "      <th>2</th>\n",
              "      <td>2</td>\n",
              "      <td>7109</td>\n",
              "      <td>2006</td>\n",
              "      <td>89627.50</td>\n",
              "      <td>0</td>\n",
              "      <td>15</td>\n",
              "    </tr>\n",
              "    <tr>\n",
              "      <th>3</th>\n",
              "      <td>3</td>\n",
              "      <td>26823</td>\n",
              "      <td>2015</td>\n",
              "      <td>95276.14</td>\n",
              "      <td>0</td>\n",
              "      <td>6</td>\n",
              "    </tr>\n",
              "    <tr>\n",
              "      <th>4</th>\n",
              "      <td>4</td>\n",
              "      <td>7935</td>\n",
              "      <td>2014</td>\n",
              "      <td>117384.68</td>\n",
              "      <td>1</td>\n",
              "      <td>7</td>\n",
              "    </tr>\n",
              "  </tbody>\n",
              "</table>\n",
              "</div>"
            ],
            "text/plain": [
              "   Unnamed: 0  milhas_por_ano  ano_modelo      preco vendido  idade\n",
              "0           0           21801        2000   30941.02       1     21\n",
              "1           1            7843        1998   40557.96       1     23\n",
              "2           2            7109        2006   89627.50       0     15\n",
              "3           3           26823        2015   95276.14       0      6\n",
              "4           4            7935        2014  117384.68       1      7"
            ]
          },
          "metadata": {
            "tags": []
          },
          "execution_count": 6
        }
      ]
    },
    {
      "cell_type": "code",
      "metadata": {
        "colab": {
          "base_uri": "https://localhost:8080/",
          "height": 204
        },
        "id": "xtGFnDcuMkyQ",
        "outputId": "166c94c0-56e7-4f87-d83b-1b41c5f01f81"
      },
      "source": [
        "#calcula coluna quilometros e quilometros totais \n",
        "dados['km_por_ano'] = dados.milhas_por_ano * 1.60934\n",
        "dados['quilometragem'] = dados.km_por_ano * dados.idade\n",
        "dados.head()"
      ],
      "execution_count": 7,
      "outputs": [
        {
          "output_type": "execute_result",
          "data": {
            "text/html": [
              "<div>\n",
              "<style scoped>\n",
              "    .dataframe tbody tr th:only-of-type {\n",
              "        vertical-align: middle;\n",
              "    }\n",
              "\n",
              "    .dataframe tbody tr th {\n",
              "        vertical-align: top;\n",
              "    }\n",
              "\n",
              "    .dataframe thead th {\n",
              "        text-align: right;\n",
              "    }\n",
              "</style>\n",
              "<table border=\"1\" class=\"dataframe\">\n",
              "  <thead>\n",
              "    <tr style=\"text-align: right;\">\n",
              "      <th></th>\n",
              "      <th>Unnamed: 0</th>\n",
              "      <th>milhas_por_ano</th>\n",
              "      <th>ano_modelo</th>\n",
              "      <th>preco</th>\n",
              "      <th>vendido</th>\n",
              "      <th>idade</th>\n",
              "      <th>km_por_ano</th>\n",
              "      <th>quilometragem</th>\n",
              "    </tr>\n",
              "  </thead>\n",
              "  <tbody>\n",
              "    <tr>\n",
              "      <th>0</th>\n",
              "      <td>0</td>\n",
              "      <td>21801</td>\n",
              "      <td>2000</td>\n",
              "      <td>30941.02</td>\n",
              "      <td>1</td>\n",
              "      <td>21</td>\n",
              "      <td>35085.22134</td>\n",
              "      <td>736789.64814</td>\n",
              "    </tr>\n",
              "    <tr>\n",
              "      <th>1</th>\n",
              "      <td>1</td>\n",
              "      <td>7843</td>\n",
              "      <td>1998</td>\n",
              "      <td>40557.96</td>\n",
              "      <td>1</td>\n",
              "      <td>23</td>\n",
              "      <td>12622.05362</td>\n",
              "      <td>290307.23326</td>\n",
              "    </tr>\n",
              "    <tr>\n",
              "      <th>2</th>\n",
              "      <td>2</td>\n",
              "      <td>7109</td>\n",
              "      <td>2006</td>\n",
              "      <td>89627.50</td>\n",
              "      <td>0</td>\n",
              "      <td>15</td>\n",
              "      <td>11440.79806</td>\n",
              "      <td>171611.97090</td>\n",
              "    </tr>\n",
              "    <tr>\n",
              "      <th>3</th>\n",
              "      <td>3</td>\n",
              "      <td>26823</td>\n",
              "      <td>2015</td>\n",
              "      <td>95276.14</td>\n",
              "      <td>0</td>\n",
              "      <td>6</td>\n",
              "      <td>43167.32682</td>\n",
              "      <td>259003.96092</td>\n",
              "    </tr>\n",
              "    <tr>\n",
              "      <th>4</th>\n",
              "      <td>4</td>\n",
              "      <td>7935</td>\n",
              "      <td>2014</td>\n",
              "      <td>117384.68</td>\n",
              "      <td>1</td>\n",
              "      <td>7</td>\n",
              "      <td>12770.11290</td>\n",
              "      <td>89390.79030</td>\n",
              "    </tr>\n",
              "  </tbody>\n",
              "</table>\n",
              "</div>"
            ],
            "text/plain": [
              "   Unnamed: 0  milhas_por_ano  ano_modelo  ...  idade   km_por_ano  quilometragem\n",
              "0           0           21801        2000  ...     21  35085.22134   736789.64814\n",
              "1           1            7843        1998  ...     23  12622.05362   290307.23326\n",
              "2           2            7109        2006  ...     15  11440.79806   171611.97090\n",
              "3           3           26823        2015  ...      6  43167.32682   259003.96092\n",
              "4           4            7935        2014  ...      7  12770.11290    89390.79030\n",
              "\n",
              "[5 rows x 8 columns]"
            ]
          },
          "metadata": {
            "tags": []
          },
          "execution_count": 7
        }
      ]
    },
    {
      "cell_type": "code",
      "metadata": {
        "colab": {
          "base_uri": "https://localhost:8080/",
          "height": 204
        },
        "id": "NfP-U5s6M9o4",
        "outputId": "e7d5de86-cc05-4a35-c8e8-c7f916b20570"
      },
      "source": [
        "#deleta colunas que nao serao usadas\n",
        "dados = dados.drop(columns = ['Unnamed: 0','milhas_por_ano','ano_modelo','km_por_ano'], axis=1)\n",
        "dados.head()"
      ],
      "execution_count": 8,
      "outputs": [
        {
          "output_type": "execute_result",
          "data": {
            "text/html": [
              "<div>\n",
              "<style scoped>\n",
              "    .dataframe tbody tr th:only-of-type {\n",
              "        vertical-align: middle;\n",
              "    }\n",
              "\n",
              "    .dataframe tbody tr th {\n",
              "        vertical-align: top;\n",
              "    }\n",
              "\n",
              "    .dataframe thead th {\n",
              "        text-align: right;\n",
              "    }\n",
              "</style>\n",
              "<table border=\"1\" class=\"dataframe\">\n",
              "  <thead>\n",
              "    <tr style=\"text-align: right;\">\n",
              "      <th></th>\n",
              "      <th>preco</th>\n",
              "      <th>vendido</th>\n",
              "      <th>idade</th>\n",
              "      <th>quilometragem</th>\n",
              "    </tr>\n",
              "  </thead>\n",
              "  <tbody>\n",
              "    <tr>\n",
              "      <th>0</th>\n",
              "      <td>30941.02</td>\n",
              "      <td>1</td>\n",
              "      <td>21</td>\n",
              "      <td>736789.64814</td>\n",
              "    </tr>\n",
              "    <tr>\n",
              "      <th>1</th>\n",
              "      <td>40557.96</td>\n",
              "      <td>1</td>\n",
              "      <td>23</td>\n",
              "      <td>290307.23326</td>\n",
              "    </tr>\n",
              "    <tr>\n",
              "      <th>2</th>\n",
              "      <td>89627.50</td>\n",
              "      <td>0</td>\n",
              "      <td>15</td>\n",
              "      <td>171611.97090</td>\n",
              "    </tr>\n",
              "    <tr>\n",
              "      <th>3</th>\n",
              "      <td>95276.14</td>\n",
              "      <td>0</td>\n",
              "      <td>6</td>\n",
              "      <td>259003.96092</td>\n",
              "    </tr>\n",
              "    <tr>\n",
              "      <th>4</th>\n",
              "      <td>117384.68</td>\n",
              "      <td>1</td>\n",
              "      <td>7</td>\n",
              "      <td>89390.79030</td>\n",
              "    </tr>\n",
              "  </tbody>\n",
              "</table>\n",
              "</div>"
            ],
            "text/plain": [
              "       preco vendido  idade  quilometragem\n",
              "0   30941.02       1     21   736789.64814\n",
              "1   40557.96       1     23   290307.23326\n",
              "2   89627.50       0     15   171611.97090\n",
              "3   95276.14       0      6   259003.96092\n",
              "4  117384.68       1      7    89390.79030"
            ]
          },
          "metadata": {
            "tags": []
          },
          "execution_count": 8
        }
      ]
    },
    {
      "cell_type": "code",
      "metadata": {
        "id": "IgTDXbklOH0u"
      },
      "source": [
        "#separa dados e cria base de teste e respota\n",
        "x = dados[[\"preco\",\"idade\",\"quilometragem\"]]\n",
        "y= dados[\"vendido\"]\n",
        "\n",
        "treino_x_raw, teste_x_raw, treino_y,  teste_y = train_test_split(x, y, test_size = 0.25, stratify = y)"
      ],
      "execution_count": 9,
      "outputs": []
    },
    {
      "cell_type": "code",
      "metadata": {
        "colab": {
          "base_uri": "https://localhost:8080/"
        },
        "id": "F-hUxyBbSEs4",
        "outputId": "ed1ac731-5bc8-4ff2-aa67-2e1959e5cdd4"
      },
      "source": [
        "#dummy classifier\n",
        "dummy = DummyClassifier()\n",
        "dummy.fit(treino_x_raw, treino_y)\n",
        "acurracia = dummy.score(teste_x_raw, teste_y)*100\n",
        "print(\"acurracia foi de %.2f%%\" %acurracia)"
      ],
      "execution_count": 10,
      "outputs": [
        {
          "output_type": "stream",
          "text": [
            "acurracia foi de 50.20%\n"
          ],
          "name": "stdout"
        },
        {
          "output_type": "stream",
          "text": [
            "/usr/local/lib/python3.7/dist-packages/sklearn/dummy.py:132: FutureWarning: The default value of strategy will change from stratified to prior in 0.24.\n",
            "  \"stratified to prior in 0.24.\", FutureWarning)\n"
          ],
          "name": "stderr"
        }
      ]
    },
    {
      "cell_type": "code",
      "metadata": {
        "colab": {
          "base_uri": "https://localhost:8080/"
        },
        "id": "Dqdl9Afdco8L",
        "outputId": "4b071b0d-5dfc-41fd-81dd-c526a6fb13cd"
      },
      "source": [
        "#define um SEED\n",
        "SEED = 30\n",
        "\n",
        "np.random.seed(SEED)\n",
        "\n",
        "#Linear SVM\n",
        "linear_svc = LinearSVC()\n",
        "linear_svc.fit(treino_x_raw, treino_y)\n",
        "resultado = linear_svc.predict(teste_x_raw)\n",
        "\n",
        "acurracia = accuracy_score(teste_y, resultado)*100\n",
        "print(\"acurracia foi de %.2f%%\" %acurracia)"
      ],
      "execution_count": 35,
      "outputs": [
        {
          "output_type": "stream",
          "text": [
            "acurracia foi de 42.00%\n"
          ],
          "name": "stdout"
        },
        {
          "output_type": "stream",
          "text": [
            "/usr/local/lib/python3.7/dist-packages/sklearn/svm/_base.py:947: ConvergenceWarning: Liblinear failed to converge, increase the number of iterations.\n",
            "  \"the number of iterations.\", ConvergenceWarning)\n"
          ],
          "name": "stderr"
        }
      ]
    },
    {
      "cell_type": "code",
      "metadata": {
        "colab": {
          "base_uri": "https://localhost:8080/"
        },
        "id": "-7WEs-_cPELq",
        "outputId": "e5eb9045-3239-4b97-9d3f-49f9be84a5d7"
      },
      "source": [
        "#SVC Dados não escalonados \r\n",
        "svc = SVC()\r\n",
        "svc.fit(treino_x_raw, treino_y)\r\n",
        "resultado = svc.predict(teste_x_raw)\r\n",
        "\r\n",
        "acurracia = accuracy_score(teste_y, resultado)*100\r\n",
        "print(\"acurracia foi de %.2f%%\" %acurracia)"
      ],
      "execution_count": 36,
      "outputs": [
        {
          "output_type": "stream",
          "text": [
            "acurracia foi de 72.92%\n"
          ],
          "name": "stdout"
        }
      ]
    },
    {
      "cell_type": "code",
      "metadata": {
        "colab": {
          "base_uri": "https://localhost:8080/"
        },
        "id": "Hw-kkkcnSs67",
        "outputId": "96e04bdc-940a-42e8-a42f-db8b74de35ab"
      },
      "source": [
        "#escalonando dados\r\n",
        "scaler = StandardScaler()\r\n",
        "scaler.fit(treino_x_raw)\r\n",
        "treino_x = scaler.transform(treino_x_raw)\r\n",
        "teste_x = scaler.transform(teste_x_raw)\r\n",
        "\r\n",
        "#SVC Dados não escalonados \r\n",
        "svc = SVC()\r\n",
        "svc.fit(treino_x, treino_y)\r\n",
        "resultado = svc.predict(teste_x)\r\n",
        "\r\n",
        "acurracia = accuracy_score(teste_y, resultado)*100\r\n",
        "print(\"acurracia foi de %.2f%%\" %acurracia)"
      ],
      "execution_count": 39,
      "outputs": [
        {
          "output_type": "stream",
          "text": [
            "acurracia foi de 77.04%\n"
          ],
          "name": "stdout"
        }
      ]
    },
    {
      "cell_type": "code",
      "metadata": {
        "colab": {
          "base_uri": "https://localhost:8080/"
        },
        "id": "7TJ2orpFT8Wy",
        "outputId": "e865a4e6-0d65-4730-9ab2-921a82e8e9ea"
      },
      "source": [
        "#arvore de decisões\r\n",
        "arvore_decisao = DecisionTreeClassifier(max_depth=4)\r\n",
        "arvore_decisao.fit(treino_x_raw,treino_y)\r\n",
        "resultado = arvore_decisao.predict(teste_x_raw)\r\n",
        "\r\n",
        "acurracia = accuracy_score(teste_y, resultado)*100\r\n",
        "print(\"acurracia foi de %.2f%%\" %acurracia)"
      ],
      "execution_count": 42,
      "outputs": [
        {
          "output_type": "stream",
          "text": [
            "acurracia foi de 78.92%\n"
          ],
          "name": "stdout"
        }
      ]
    },
    {
      "cell_type": "code",
      "metadata": {
        "colab": {
          "base_uri": "https://localhost:8080/",
          "height": 757
        },
        "id": "3sXfR0-TUc8n",
        "outputId": "74477869-7250-4113-ba68-0444398da942"
      },
      "source": [
        "#Mostra arvore de decisções criadas\r\n",
        "features = x.columns\r\n",
        "dot_data = export_graphviz(arvore_decisao, out_file=None,\r\n",
        "                           filled = True, rounded = True,\r\n",
        "                           feature_names = features,\r\n",
        "                          class_names = [\"não\", \"sim\"])\r\n",
        "grafico = graphviz.Source(dot_data)\r\n",
        "grafico"
      ],
      "execution_count": 43,
      "outputs": [
        {
          "output_type": "execute_result",
          "data": {
            "text/plain": [
              "<graphviz.files.Source at 0x7f9baf708fd0>"
            ],
            "image/svg+xml": "<?xml version=\"1.0\" encoding=\"UTF-8\" standalone=\"no\"?>\n<!DOCTYPE svg PUBLIC \"-//W3C//DTD SVG 1.1//EN\"\n \"http://www.w3.org/Graphics/SVG/1.1/DTD/svg11.dtd\">\n<!-- Generated by graphviz version 2.40.1 (20161225.0304)\n -->\n<!-- Title: Tree Pages: 1 -->\n<svg width=\"1636pt\" height=\"552pt\"\n viewBox=\"0.00 0.00 1636.00 552.00\" xmlns=\"http://www.w3.org/2000/svg\" xmlns:xlink=\"http://www.w3.org/1999/xlink\">\n<g id=\"graph0\" class=\"graph\" transform=\"scale(1 1) rotate(0) translate(4 548)\">\n<title>Tree</title>\n<polygon fill=\"#ffffff\" stroke=\"transparent\" points=\"-4,4 -4,-548 1632,-548 1632,4 -4,4\"/>\n<!-- 0 -->\n<g id=\"node1\" class=\"node\">\n<title>0</title>\n<path fill=\"#c8e4f8\" stroke=\"#000000\" d=\"M623.5,-544C623.5,-544 498.5,-544 498.5,-544 492.5,-544 486.5,-538 486.5,-532 486.5,-532 486.5,-473 486.5,-473 486.5,-467 492.5,-461 498.5,-461 498.5,-461 623.5,-461 623.5,-461 629.5,-461 635.5,-467 635.5,-473 635.5,-473 635.5,-532 635.5,-532 635.5,-538 629.5,-544 623.5,-544\"/>\n<text text-anchor=\"middle\" x=\"561\" y=\"-528.8\" font-family=\"Helvetica,sans-Serif\" font-size=\"14.00\" fill=\"#000000\">preco &lt;= 59976.24</text>\n<text text-anchor=\"middle\" x=\"561\" y=\"-513.8\" font-family=\"Helvetica,sans-Serif\" font-size=\"14.00\" fill=\"#000000\">gini = 0.487</text>\n<text text-anchor=\"middle\" x=\"561\" y=\"-498.8\" font-family=\"Helvetica,sans-Serif\" font-size=\"14.00\" fill=\"#000000\">samples = 7500</text>\n<text text-anchor=\"middle\" x=\"561\" y=\"-483.8\" font-family=\"Helvetica,sans-Serif\" font-size=\"14.00\" fill=\"#000000\">value = [3150, 4350]</text>\n<text text-anchor=\"middle\" x=\"561\" y=\"-468.8\" font-family=\"Helvetica,sans-Serif\" font-size=\"14.00\" fill=\"#000000\">class = sim</text>\n</g>\n<!-- 1 -->\n<g id=\"node2\" class=\"node\">\n<title>1</title>\n<path fill=\"#53aae8\" stroke=\"#000000\" d=\"M505.5,-425C505.5,-425 382.5,-425 382.5,-425 376.5,-425 370.5,-419 370.5,-413 370.5,-413 370.5,-354 370.5,-354 370.5,-348 376.5,-342 382.5,-342 382.5,-342 505.5,-342 505.5,-342 511.5,-342 517.5,-348 517.5,-354 517.5,-354 517.5,-413 517.5,-413 517.5,-419 511.5,-425 505.5,-425\"/>\n<text text-anchor=\"middle\" x=\"444\" y=\"-409.8\" font-family=\"Helvetica,sans-Serif\" font-size=\"14.00\" fill=\"#000000\">preco &lt;= 40083.385</text>\n<text text-anchor=\"middle\" x=\"444\" y=\"-394.8\" font-family=\"Helvetica,sans-Serif\" font-size=\"14.00\" fill=\"#000000\">gini = 0.202</text>\n<text text-anchor=\"middle\" x=\"444\" y=\"-379.8\" font-family=\"Helvetica,sans-Serif\" font-size=\"14.00\" fill=\"#000000\">samples = 3276</text>\n<text text-anchor=\"middle\" x=\"444\" y=\"-364.8\" font-family=\"Helvetica,sans-Serif\" font-size=\"14.00\" fill=\"#000000\">value = [374, 2902]</text>\n<text text-anchor=\"middle\" x=\"444\" y=\"-349.8\" font-family=\"Helvetica,sans-Serif\" font-size=\"14.00\" fill=\"#000000\">class = sim</text>\n</g>\n<!-- 0&#45;&gt;1 -->\n<g id=\"edge1\" class=\"edge\">\n<title>0&#45;&gt;1</title>\n<path fill=\"none\" stroke=\"#000000\" d=\"M520.0791,-460.8796C511.047,-451.6931 501.3987,-441.8798 492.1112,-432.4336\"/>\n<polygon fill=\"#000000\" stroke=\"#000000\" points=\"494.6023,-429.975 485.0956,-425.2981 489.6107,-434.8827 494.6023,-429.975\"/>\n<text text-anchor=\"middle\" x=\"484.8837\" y=\"-446.5972\" font-family=\"Helvetica,sans-Serif\" font-size=\"14.00\" fill=\"#000000\">True</text>\n</g>\n<!-- 10 -->\n<g id=\"node11\" class=\"node\">\n<title>10</title>\n<path fill=\"#f3c3a0\" stroke=\"#000000\" d=\"M903.5,-425C903.5,-425 778.5,-425 778.5,-425 772.5,-425 766.5,-419 766.5,-413 766.5,-413 766.5,-354 766.5,-354 766.5,-348 772.5,-342 778.5,-342 778.5,-342 903.5,-342 903.5,-342 909.5,-342 915.5,-348 915.5,-354 915.5,-354 915.5,-413 915.5,-413 915.5,-419 909.5,-425 903.5,-425\"/>\n<text text-anchor=\"middle\" x=\"841\" y=\"-409.8\" font-family=\"Helvetica,sans-Serif\" font-size=\"14.00\" fill=\"#000000\">preco &lt;= 99974.41</text>\n<text text-anchor=\"middle\" x=\"841\" y=\"-394.8\" font-family=\"Helvetica,sans-Serif\" font-size=\"14.00\" fill=\"#000000\">gini = 0.451</text>\n<text text-anchor=\"middle\" x=\"841\" y=\"-379.8\" font-family=\"Helvetica,sans-Serif\" font-size=\"14.00\" fill=\"#000000\">samples = 4224</text>\n<text text-anchor=\"middle\" x=\"841\" y=\"-364.8\" font-family=\"Helvetica,sans-Serif\" font-size=\"14.00\" fill=\"#000000\">value = [2776, 1448]</text>\n<text text-anchor=\"middle\" x=\"841\" y=\"-349.8\" font-family=\"Helvetica,sans-Serif\" font-size=\"14.00\" fill=\"#000000\">class = não</text>\n</g>\n<!-- 0&#45;&gt;10 -->\n<g id=\"edge10\" class=\"edge\">\n<title>0&#45;&gt;10</title>\n<path fill=\"none\" stroke=\"#000000\" d=\"M635.667,-470.7665C672.8545,-454.9618 717.9697,-435.7879 756.4294,-419.4425\"/>\n<polygon fill=\"#000000\" stroke=\"#000000\" points=\"758.2207,-422.4843 766.055,-415.3516 755.4827,-416.0419 758.2207,-422.4843\"/>\n<text text-anchor=\"middle\" x=\"756.7001\" y=\"-434.8354\" font-family=\"Helvetica,sans-Serif\" font-size=\"14.00\" fill=\"#000000\">False</text>\n</g>\n<!-- 2 -->\n<g id=\"node3\" class=\"node\">\n<title>2</title>\n<path fill=\"#399de5\" stroke=\"#000000\" d=\"M340,-298.5C340,-298.5 240,-298.5 240,-298.5 234,-298.5 228,-292.5 228,-286.5 228,-286.5 228,-242.5 228,-242.5 228,-236.5 234,-230.5 240,-230.5 240,-230.5 340,-230.5 340,-230.5 346,-230.5 352,-236.5 352,-242.5 352,-242.5 352,-286.5 352,-286.5 352,-292.5 346,-298.5 340,-298.5\"/>\n<text text-anchor=\"middle\" x=\"290\" y=\"-283.3\" font-family=\"Helvetica,sans-Serif\" font-size=\"14.00\" fill=\"#000000\">gini = 0.0</text>\n<text text-anchor=\"middle\" x=\"290\" y=\"-268.3\" font-family=\"Helvetica,sans-Serif\" font-size=\"14.00\" fill=\"#000000\">samples = 1453</text>\n<text text-anchor=\"middle\" x=\"290\" y=\"-253.3\" font-family=\"Helvetica,sans-Serif\" font-size=\"14.00\" fill=\"#000000\">value = [0, 1453]</text>\n<text text-anchor=\"middle\" x=\"290\" y=\"-238.3\" font-family=\"Helvetica,sans-Serif\" font-size=\"14.00\" fill=\"#000000\">class = sim</text>\n</g>\n<!-- 1&#45;&gt;2 -->\n<g id=\"edge2\" class=\"edge\">\n<title>1&#45;&gt;2</title>\n<path fill=\"none\" stroke=\"#000000\" d=\"M390.1383,-341.8796C374.7696,-330.0038 358.0453,-317.0804 342.7441,-305.2568\"/>\n<polygon fill=\"#000000\" stroke=\"#000000\" points=\"344.4605,-302.1599 334.4076,-298.8149 340.1804,-307.699 344.4605,-302.1599\"/>\n</g>\n<!-- 3 -->\n<g id=\"node4\" class=\"node\">\n<title>3</title>\n<path fill=\"#6cb6ec\" stroke=\"#000000\" d=\"M505.5,-306C505.5,-306 382.5,-306 382.5,-306 376.5,-306 370.5,-300 370.5,-294 370.5,-294 370.5,-235 370.5,-235 370.5,-229 376.5,-223 382.5,-223 382.5,-223 505.5,-223 505.5,-223 511.5,-223 517.5,-229 517.5,-235 517.5,-235 517.5,-294 517.5,-294 517.5,-300 511.5,-306 505.5,-306\"/>\n<text text-anchor=\"middle\" x=\"444\" y=\"-290.8\" font-family=\"Helvetica,sans-Serif\" font-size=\"14.00\" fill=\"#000000\">preco &lt;= 58389.725</text>\n<text text-anchor=\"middle\" x=\"444\" y=\"-275.8\" font-family=\"Helvetica,sans-Serif\" font-size=\"14.00\" fill=\"#000000\">gini = 0.326</text>\n<text text-anchor=\"middle\" x=\"444\" y=\"-260.8\" font-family=\"Helvetica,sans-Serif\" font-size=\"14.00\" fill=\"#000000\">samples = 1823</text>\n<text text-anchor=\"middle\" x=\"444\" y=\"-245.8\" font-family=\"Helvetica,sans-Serif\" font-size=\"14.00\" fill=\"#000000\">value = [374, 1449]</text>\n<text text-anchor=\"middle\" x=\"444\" y=\"-230.8\" font-family=\"Helvetica,sans-Serif\" font-size=\"14.00\" fill=\"#000000\">class = sim</text>\n</g>\n<!-- 1&#45;&gt;3 -->\n<g id=\"edge3\" class=\"edge\">\n<title>1&#45;&gt;3</title>\n<path fill=\"none\" stroke=\"#000000\" d=\"M444,-341.8796C444,-333.6838 444,-324.9891 444,-316.5013\"/>\n<polygon fill=\"#000000\" stroke=\"#000000\" points=\"447.5001,-316.298 444,-306.2981 440.5001,-316.2981 447.5001,-316.298\"/>\n</g>\n<!-- 4 -->\n<g id=\"node5\" class=\"node\">\n<title>4</title>\n<path fill=\"#6eb7ec\" stroke=\"#000000\" d=\"M265.5,-187C265.5,-187 142.5,-187 142.5,-187 136.5,-187 130.5,-181 130.5,-175 130.5,-175 130.5,-116 130.5,-116 130.5,-110 136.5,-104 142.5,-104 142.5,-104 265.5,-104 265.5,-104 271.5,-104 277.5,-110 277.5,-116 277.5,-116 277.5,-175 277.5,-175 277.5,-181 271.5,-187 265.5,-187\"/>\n<text text-anchor=\"middle\" x=\"204\" y=\"-171.8\" font-family=\"Helvetica,sans-Serif\" font-size=\"14.00\" fill=\"#000000\">preco &lt;= 41145.535</text>\n<text text-anchor=\"middle\" x=\"204\" y=\"-156.8\" font-family=\"Helvetica,sans-Serif\" font-size=\"14.00\" fill=\"#000000\">gini = 0.334</text>\n<text text-anchor=\"middle\" x=\"204\" y=\"-141.8\" font-family=\"Helvetica,sans-Serif\" font-size=\"14.00\" fill=\"#000000\">samples = 1691</text>\n<text text-anchor=\"middle\" x=\"204\" y=\"-126.8\" font-family=\"Helvetica,sans-Serif\" font-size=\"14.00\" fill=\"#000000\">value = [358, 1333]</text>\n<text text-anchor=\"middle\" x=\"204\" y=\"-111.8\" font-family=\"Helvetica,sans-Serif\" font-size=\"14.00\" fill=\"#000000\">class = sim</text>\n</g>\n<!-- 3&#45;&gt;4 -->\n<g id=\"edge4\" class=\"edge\">\n<title>3&#45;&gt;4</title>\n<path fill=\"none\" stroke=\"#000000\" d=\"M370.2435,-227.5973C367.1212,-226.0429 364.0299,-224.5053 361,-223 336.8613,-211.0076 310.6086,-198.0249 286.6023,-186.1766\"/>\n<polygon fill=\"#000000\" stroke=\"#000000\" points=\"288.0372,-182.9818 277.5207,-181.6956 284.9398,-189.2592 288.0372,-182.9818\"/>\n</g>\n<!-- 7 -->\n<g id=\"node8\" class=\"node\">\n<title>7</title>\n<path fill=\"#54abe9\" stroke=\"#000000\" d=\"M539.5,-187C539.5,-187 348.5,-187 348.5,-187 342.5,-187 336.5,-181 336.5,-175 336.5,-175 336.5,-116 336.5,-116 336.5,-110 342.5,-104 348.5,-104 348.5,-104 539.5,-104 539.5,-104 545.5,-104 551.5,-110 551.5,-116 551.5,-116 551.5,-175 551.5,-175 551.5,-181 545.5,-187 539.5,-187\"/>\n<text text-anchor=\"middle\" x=\"444\" y=\"-171.8\" font-family=\"Helvetica,sans-Serif\" font-size=\"14.00\" fill=\"#000000\">quilometragem &lt;= 743595.562</text>\n<text text-anchor=\"middle\" x=\"444\" y=\"-156.8\" font-family=\"Helvetica,sans-Serif\" font-size=\"14.00\" fill=\"#000000\">gini = 0.213</text>\n<text text-anchor=\"middle\" x=\"444\" y=\"-141.8\" font-family=\"Helvetica,sans-Serif\" font-size=\"14.00\" fill=\"#000000\">samples = 132</text>\n<text text-anchor=\"middle\" x=\"444\" y=\"-126.8\" font-family=\"Helvetica,sans-Serif\" font-size=\"14.00\" fill=\"#000000\">value = [16, 116]</text>\n<text text-anchor=\"middle\" x=\"444\" y=\"-111.8\" font-family=\"Helvetica,sans-Serif\" font-size=\"14.00\" fill=\"#000000\">class = sim</text>\n</g>\n<!-- 3&#45;&gt;7 -->\n<g id=\"edge7\" class=\"edge\">\n<title>3&#45;&gt;7</title>\n<path fill=\"none\" stroke=\"#000000\" d=\"M444,-222.8796C444,-214.6838 444,-205.9891 444,-197.5013\"/>\n<polygon fill=\"#000000\" stroke=\"#000000\" points=\"447.5001,-197.298 444,-187.2981 440.5001,-197.2981 447.5001,-197.298\"/>\n</g>\n<!-- 5 -->\n<g id=\"node6\" class=\"node\">\n<title>5</title>\n<path fill=\"#8ec7f0\" stroke=\"#000000\" d=\"M104,-68C104,-68 12,-68 12,-68 6,-68 0,-62 0,-56 0,-56 0,-12 0,-12 0,-6 6,0 12,0 12,0 104,0 104,0 110,0 116,-6 116,-12 116,-12 116,-56 116,-56 116,-62 110,-68 104,-68\"/>\n<text text-anchor=\"middle\" x=\"58\" y=\"-52.8\" font-family=\"Helvetica,sans-Serif\" font-size=\"14.00\" fill=\"#000000\">gini = 0.421</text>\n<text text-anchor=\"middle\" x=\"58\" y=\"-37.8\" font-family=\"Helvetica,sans-Serif\" font-size=\"14.00\" fill=\"#000000\">samples = 93</text>\n<text text-anchor=\"middle\" x=\"58\" y=\"-22.8\" font-family=\"Helvetica,sans-Serif\" font-size=\"14.00\" fill=\"#000000\">value = [28, 65]</text>\n<text text-anchor=\"middle\" x=\"58\" y=\"-7.8\" font-family=\"Helvetica,sans-Serif\" font-size=\"14.00\" fill=\"#000000\">class = sim</text>\n</g>\n<!-- 4&#45;&gt;5 -->\n<g id=\"edge5\" class=\"edge\">\n<title>4&#45;&gt;5</title>\n<path fill=\"none\" stroke=\"#000000\" d=\"M149.635,-103.9815C136.9989,-94.3313 123.5644,-84.0714 110.9885,-74.4673\"/>\n<polygon fill=\"#000000\" stroke=\"#000000\" points=\"112.9372,-71.5515 102.8654,-68.2637 108.6886,-77.1148 112.9372,-71.5515\"/>\n</g>\n<!-- 6 -->\n<g id=\"node7\" class=\"node\">\n<title>6</title>\n<path fill=\"#6db7ec\" stroke=\"#000000\" d=\"M262,-68C262,-68 146,-68 146,-68 140,-68 134,-62 134,-56 134,-56 134,-12 134,-12 134,-6 140,0 146,0 146,0 262,0 262,0 268,0 274,-6 274,-12 274,-12 274,-56 274,-56 274,-62 268,-68 262,-68\"/>\n<text text-anchor=\"middle\" x=\"204\" y=\"-52.8\" font-family=\"Helvetica,sans-Serif\" font-size=\"14.00\" fill=\"#000000\">gini = 0.328</text>\n<text text-anchor=\"middle\" x=\"204\" y=\"-37.8\" font-family=\"Helvetica,sans-Serif\" font-size=\"14.00\" fill=\"#000000\">samples = 1598</text>\n<text text-anchor=\"middle\" x=\"204\" y=\"-22.8\" font-family=\"Helvetica,sans-Serif\" font-size=\"14.00\" fill=\"#000000\">value = [330, 1268]</text>\n<text text-anchor=\"middle\" x=\"204\" y=\"-7.8\" font-family=\"Helvetica,sans-Serif\" font-size=\"14.00\" fill=\"#000000\">class = sim</text>\n</g>\n<!-- 4&#45;&gt;6 -->\n<g id=\"edge6\" class=\"edge\">\n<title>4&#45;&gt;6</title>\n<path fill=\"none\" stroke=\"#000000\" d=\"M204,-103.9815C204,-95.618 204,-86.7965 204,-78.3409\"/>\n<polygon fill=\"#000000\" stroke=\"#000000\" points=\"207.5001,-78.2636 204,-68.2637 200.5001,-78.2637 207.5001,-78.2636\"/>\n</g>\n<!-- 8 -->\n<g id=\"node9\" class=\"node\">\n<title>8</title>\n<path fill=\"#51a9e8\" stroke=\"#000000\" d=\"M404,-68C404,-68 304,-68 304,-68 298,-68 292,-62 292,-56 292,-56 292,-12 292,-12 292,-6 298,0 304,0 304,0 404,0 404,0 410,0 416,-6 416,-12 416,-12 416,-56 416,-56 416,-62 410,-68 404,-68\"/>\n<text text-anchor=\"middle\" x=\"354\" y=\"-52.8\" font-family=\"Helvetica,sans-Serif\" font-size=\"14.00\" fill=\"#000000\">gini = 0.195</text>\n<text text-anchor=\"middle\" x=\"354\" y=\"-37.8\" font-family=\"Helvetica,sans-Serif\" font-size=\"14.00\" fill=\"#000000\">samples = 128</text>\n<text text-anchor=\"middle\" x=\"354\" y=\"-22.8\" font-family=\"Helvetica,sans-Serif\" font-size=\"14.00\" fill=\"#000000\">value = [14, 114]</text>\n<text text-anchor=\"middle\" x=\"354\" y=\"-7.8\" font-family=\"Helvetica,sans-Serif\" font-size=\"14.00\" fill=\"#000000\">class = sim</text>\n</g>\n<!-- 7&#45;&gt;8 -->\n<g id=\"edge8\" class=\"edge\">\n<title>7&#45;&gt;8</title>\n<path fill=\"none\" stroke=\"#000000\" d=\"M410.4873,-103.9815C403.143,-94.8828 395.3612,-85.242 387.9981,-76.1199\"/>\n<polygon fill=\"#000000\" stroke=\"#000000\" points=\"390.6612,-73.8467 381.6568,-68.2637 385.2143,-78.2434 390.6612,-73.8467\"/>\n</g>\n<!-- 9 -->\n<g id=\"node10\" class=\"node\">\n<title>9</title>\n<path fill=\"#ffffff\" stroke=\"#000000\" d=\"M521.5,-68C521.5,-68 446.5,-68 446.5,-68 440.5,-68 434.5,-62 434.5,-56 434.5,-56 434.5,-12 434.5,-12 434.5,-6 440.5,0 446.5,0 446.5,0 521.5,0 521.5,0 527.5,0 533.5,-6 533.5,-12 533.5,-12 533.5,-56 533.5,-56 533.5,-62 527.5,-68 521.5,-68\"/>\n<text text-anchor=\"middle\" x=\"484\" y=\"-52.8\" font-family=\"Helvetica,sans-Serif\" font-size=\"14.00\" fill=\"#000000\">gini = 0.5</text>\n<text text-anchor=\"middle\" x=\"484\" y=\"-37.8\" font-family=\"Helvetica,sans-Serif\" font-size=\"14.00\" fill=\"#000000\">samples = 4</text>\n<text text-anchor=\"middle\" x=\"484\" y=\"-22.8\" font-family=\"Helvetica,sans-Serif\" font-size=\"14.00\" fill=\"#000000\">value = [2, 2]</text>\n<text text-anchor=\"middle\" x=\"484\" y=\"-7.8\" font-family=\"Helvetica,sans-Serif\" font-size=\"14.00\" fill=\"#000000\">class = não</text>\n</g>\n<!-- 7&#45;&gt;9 -->\n<g id=\"edge9\" class=\"edge\">\n<title>7&#45;&gt;9</title>\n<path fill=\"none\" stroke=\"#000000\" d=\"M458.8945,-103.9815C461.9608,-95.4342 465.1987,-86.4086 468.2928,-77.7839\"/>\n<polygon fill=\"#000000\" stroke=\"#000000\" points=\"471.6257,-78.8582 471.7081,-68.2637 465.0369,-76.4944 471.6257,-78.8582\"/>\n</g>\n<!-- 11 -->\n<g id=\"node12\" class=\"node\">\n<title>11</title>\n<path fill=\"#efb287\" stroke=\"#000000\" d=\"M936.5,-306C936.5,-306 745.5,-306 745.5,-306 739.5,-306 733.5,-300 733.5,-294 733.5,-294 733.5,-235 733.5,-235 733.5,-229 739.5,-223 745.5,-223 745.5,-223 936.5,-223 936.5,-223 942.5,-223 948.5,-229 948.5,-235 948.5,-235 948.5,-294 948.5,-294 948.5,-300 942.5,-306 936.5,-306\"/>\n<text text-anchor=\"middle\" x=\"841\" y=\"-290.8\" font-family=\"Helvetica,sans-Serif\" font-size=\"14.00\" fill=\"#000000\">quilometragem &lt;= 480626.984</text>\n<text text-anchor=\"middle\" x=\"841\" y=\"-275.8\" font-family=\"Helvetica,sans-Serif\" font-size=\"14.00\" fill=\"#000000\">gini = 0.405</text>\n<text text-anchor=\"middle\" x=\"841\" y=\"-260.8\" font-family=\"Helvetica,sans-Serif\" font-size=\"14.00\" fill=\"#000000\">samples = 3543</text>\n<text text-anchor=\"middle\" x=\"841\" y=\"-245.8\" font-family=\"Helvetica,sans-Serif\" font-size=\"14.00\" fill=\"#000000\">value = [2544, 999]</text>\n<text text-anchor=\"middle\" x=\"841\" y=\"-230.8\" font-family=\"Helvetica,sans-Serif\" font-size=\"14.00\" fill=\"#000000\">class = não</text>\n</g>\n<!-- 10&#45;&gt;11 -->\n<g id=\"edge11\" class=\"edge\">\n<title>10&#45;&gt;11</title>\n<path fill=\"none\" stroke=\"#000000\" d=\"M841,-341.8796C841,-333.6838 841,-324.9891 841,-316.5013\"/>\n<polygon fill=\"#000000\" stroke=\"#000000\" points=\"844.5001,-316.298 841,-306.2981 837.5001,-316.2981 844.5001,-316.298\"/>\n</g>\n<!-- 18 -->\n<g id=\"node19\" class=\"node\">\n<title>18</title>\n<path fill=\"#9fd0f2\" stroke=\"#000000\" d=\"M1287.5,-306C1287.5,-306 1156.5,-306 1156.5,-306 1150.5,-306 1144.5,-300 1144.5,-294 1144.5,-294 1144.5,-235 1144.5,-235 1144.5,-229 1150.5,-223 1156.5,-223 1156.5,-223 1287.5,-223 1287.5,-223 1293.5,-223 1299.5,-229 1299.5,-235 1299.5,-235 1299.5,-294 1299.5,-294 1299.5,-300 1293.5,-306 1287.5,-306\"/>\n<text text-anchor=\"middle\" x=\"1222\" y=\"-290.8\" font-family=\"Helvetica,sans-Serif\" font-size=\"14.00\" fill=\"#000000\">preco &lt;= 100371.855</text>\n<text text-anchor=\"middle\" x=\"1222\" y=\"-275.8\" font-family=\"Helvetica,sans-Serif\" font-size=\"14.00\" fill=\"#000000\">gini = 0.449</text>\n<text text-anchor=\"middle\" x=\"1222\" y=\"-260.8\" font-family=\"Helvetica,sans-Serif\" font-size=\"14.00\" fill=\"#000000\">samples = 681</text>\n<text text-anchor=\"middle\" x=\"1222\" y=\"-245.8\" font-family=\"Helvetica,sans-Serif\" font-size=\"14.00\" fill=\"#000000\">value = [232, 449]</text>\n<text text-anchor=\"middle\" x=\"1222\" y=\"-230.8\" font-family=\"Helvetica,sans-Serif\" font-size=\"14.00\" fill=\"#000000\">class = sim</text>\n</g>\n<!-- 10&#45;&gt;18 -->\n<g id=\"edge18\" class=\"edge\">\n<title>10&#45;&gt;18</title>\n<path fill=\"none\" stroke=\"#000000\" d=\"M915.8187,-360.1314C978.7148,-340.4867 1068.6871,-312.3851 1134.8299,-291.7264\"/>\n<polygon fill=\"#000000\" stroke=\"#000000\" points=\"1135.9079,-295.0565 1144.4097,-288.7343 1133.8209,-288.3748 1135.9079,-295.0565\"/>\n</g>\n<!-- 12 -->\n<g id=\"node13\" class=\"node\">\n<title>12</title>\n<path fill=\"#f3c4a2\" stroke=\"#000000\" d=\"M801,-187C801,-187 685,-187 685,-187 679,-187 673,-181 673,-175 673,-175 673,-116 673,-116 673,-110 679,-104 685,-104 685,-104 801,-104 801,-104 807,-104 813,-110 813,-116 813,-116 813,-175 813,-175 813,-181 807,-187 801,-187\"/>\n<text text-anchor=\"middle\" x=\"743\" y=\"-171.8\" font-family=\"Helvetica,sans-Serif\" font-size=\"14.00\" fill=\"#000000\">idade &lt;= 15.5</text>\n<text text-anchor=\"middle\" x=\"743\" y=\"-156.8\" font-family=\"Helvetica,sans-Serif\" font-size=\"14.00\" fill=\"#000000\">gini = 0.452</text>\n<text text-anchor=\"middle\" x=\"743\" y=\"-141.8\" font-family=\"Helvetica,sans-Serif\" font-size=\"14.00\" fill=\"#000000\">samples = 2682</text>\n<text text-anchor=\"middle\" x=\"743\" y=\"-126.8\" font-family=\"Helvetica,sans-Serif\" font-size=\"14.00\" fill=\"#000000\">value = [1755, 927]</text>\n<text text-anchor=\"middle\" x=\"743\" y=\"-111.8\" font-family=\"Helvetica,sans-Serif\" font-size=\"14.00\" fill=\"#000000\">class = não</text>\n</g>\n<!-- 11&#45;&gt;12 -->\n<g id=\"edge12\" class=\"edge\">\n<title>11&#45;&gt;12</title>\n<path fill=\"none\" stroke=\"#000000\" d=\"M806.7244,-222.8796C799.3816,-213.9633 791.5524,-204.4565 783.9854,-195.268\"/>\n<polygon fill=\"#000000\" stroke=\"#000000\" points=\"786.4808,-192.7924 777.4219,-187.2981 781.0773,-197.2424 786.4808,-192.7924\"/>\n</g>\n<!-- 15 -->\n<g id=\"node16\" class=\"node\">\n<title>15</title>\n<path fill=\"#e78c4b\" stroke=\"#000000\" d=\"M1034.5,-187C1034.5,-187 843.5,-187 843.5,-187 837.5,-187 831.5,-181 831.5,-175 831.5,-175 831.5,-116 831.5,-116 831.5,-110 837.5,-104 843.5,-104 843.5,-104 1034.5,-104 1034.5,-104 1040.5,-104 1046.5,-110 1046.5,-116 1046.5,-116 1046.5,-175 1046.5,-175 1046.5,-181 1040.5,-187 1034.5,-187\"/>\n<text text-anchor=\"middle\" x=\"939\" y=\"-171.8\" font-family=\"Helvetica,sans-Serif\" font-size=\"14.00\" fill=\"#000000\">quilometragem &lt;= 532976.406</text>\n<text text-anchor=\"middle\" x=\"939\" y=\"-156.8\" font-family=\"Helvetica,sans-Serif\" font-size=\"14.00\" fill=\"#000000\">gini = 0.153</text>\n<text text-anchor=\"middle\" x=\"939\" y=\"-141.8\" font-family=\"Helvetica,sans-Serif\" font-size=\"14.00\" fill=\"#000000\">samples = 861</text>\n<text text-anchor=\"middle\" x=\"939\" y=\"-126.8\" font-family=\"Helvetica,sans-Serif\" font-size=\"14.00\" fill=\"#000000\">value = [789, 72]</text>\n<text text-anchor=\"middle\" x=\"939\" y=\"-111.8\" font-family=\"Helvetica,sans-Serif\" font-size=\"14.00\" fill=\"#000000\">class = não</text>\n</g>\n<!-- 11&#45;&gt;15 -->\n<g id=\"edge15\" class=\"edge\">\n<title>11&#45;&gt;15</title>\n<path fill=\"none\" stroke=\"#000000\" d=\"M875.2756,-222.8796C882.6184,-213.9633 890.4476,-204.4565 898.0146,-195.268\"/>\n<polygon fill=\"#000000\" stroke=\"#000000\" points=\"900.9227,-197.2424 904.5781,-187.2981 895.5192,-192.7924 900.9227,-197.2424\"/>\n</g>\n<!-- 13 -->\n<g id=\"node14\" class=\"node\">\n<title>13</title>\n<path fill=\"#f0b58b\" stroke=\"#000000\" d=\"M672,-68C672,-68 564,-68 564,-68 558,-68 552,-62 552,-56 552,-56 552,-12 552,-12 552,-6 558,0 564,0 564,0 672,0 672,0 678,0 684,-6 684,-12 684,-12 684,-56 684,-56 684,-62 678,-68 672,-68\"/>\n<text text-anchor=\"middle\" x=\"618\" y=\"-52.8\" font-family=\"Helvetica,sans-Serif\" font-size=\"14.00\" fill=\"#000000\">gini = 0.415</text>\n<text text-anchor=\"middle\" x=\"618\" y=\"-37.8\" font-family=\"Helvetica,sans-Serif\" font-size=\"14.00\" fill=\"#000000\">samples = 1309</text>\n<text text-anchor=\"middle\" x=\"618\" y=\"-22.8\" font-family=\"Helvetica,sans-Serif\" font-size=\"14.00\" fill=\"#000000\">value = [924, 385]</text>\n<text text-anchor=\"middle\" x=\"618\" y=\"-7.8\" font-family=\"Helvetica,sans-Serif\" font-size=\"14.00\" fill=\"#000000\">class = não</text>\n</g>\n<!-- 12&#45;&gt;13 -->\n<g id=\"edge13\" class=\"edge\">\n<title>12&#45;&gt;13</title>\n<path fill=\"none\" stroke=\"#000000\" d=\"M696.4546,-103.9815C685.8421,-94.5151 674.5718,-84.462 663.9829,-75.0168\"/>\n<polygon fill=\"#000000\" stroke=\"#000000\" points=\"666.2046,-72.3084 656.4122,-68.2637 661.5449,-77.5322 666.2046,-72.3084\"/>\n</g>\n<!-- 14 -->\n<g id=\"node15\" class=\"node\">\n<title>14</title>\n<path fill=\"#f6d3ba\" stroke=\"#000000\" d=\"M822,-68C822,-68 714,-68 714,-68 708,-68 702,-62 702,-56 702,-56 702,-12 702,-12 702,-6 708,0 714,0 714,0 822,0 822,0 828,0 834,-6 834,-12 834,-12 834,-56 834,-56 834,-62 828,-68 822,-68\"/>\n<text text-anchor=\"middle\" x=\"768\" y=\"-52.8\" font-family=\"Helvetica,sans-Serif\" font-size=\"14.00\" fill=\"#000000\">gini = 0.478</text>\n<text text-anchor=\"middle\" x=\"768\" y=\"-37.8\" font-family=\"Helvetica,sans-Serif\" font-size=\"14.00\" fill=\"#000000\">samples = 1373</text>\n<text text-anchor=\"middle\" x=\"768\" y=\"-22.8\" font-family=\"Helvetica,sans-Serif\" font-size=\"14.00\" fill=\"#000000\">value = [831, 542]</text>\n<text text-anchor=\"middle\" x=\"768\" y=\"-7.8\" font-family=\"Helvetica,sans-Serif\" font-size=\"14.00\" fill=\"#000000\">class = não</text>\n</g>\n<!-- 12&#45;&gt;14 -->\n<g id=\"edge14\" class=\"edge\">\n<title>12&#45;&gt;14</title>\n<path fill=\"none\" stroke=\"#000000\" d=\"M752.3091,-103.9815C754.2049,-95.5261 756.2057,-86.6026 758.1206,-78.0623\"/>\n<polygon fill=\"#000000\" stroke=\"#000000\" points=\"761.5449,-78.7872 760.3176,-68.2637 754.7144,-77.2556 761.5449,-78.7872\"/>\n</g>\n<!-- 16 -->\n<g id=\"node17\" class=\"node\">\n<title>16</title>\n<path fill=\"#eb9c64\" stroke=\"#000000\" d=\"M964,-68C964,-68 864,-68 864,-68 858,-68 852,-62 852,-56 852,-56 852,-12 852,-12 852,-6 858,0 864,0 864,0 964,0 964,0 970,0 976,-6 976,-12 976,-12 976,-56 976,-56 976,-62 970,-68 964,-68\"/>\n<text text-anchor=\"middle\" x=\"914\" y=\"-52.8\" font-family=\"Helvetica,sans-Serif\" font-size=\"14.00\" fill=\"#000000\">gini = 0.292</text>\n<text text-anchor=\"middle\" x=\"914\" y=\"-37.8\" font-family=\"Helvetica,sans-Serif\" font-size=\"14.00\" fill=\"#000000\">samples = 237</text>\n<text text-anchor=\"middle\" x=\"914\" y=\"-22.8\" font-family=\"Helvetica,sans-Serif\" font-size=\"14.00\" fill=\"#000000\">value = [195, 42]</text>\n<text text-anchor=\"middle\" x=\"914\" y=\"-7.8\" font-family=\"Helvetica,sans-Serif\" font-size=\"14.00\" fill=\"#000000\">class = não</text>\n</g>\n<!-- 15&#45;&gt;16 -->\n<g id=\"edge16\" class=\"edge\">\n<title>15&#45;&gt;16</title>\n<path fill=\"none\" stroke=\"#000000\" d=\"M929.6909,-103.9815C927.7951,-95.5261 925.7943,-86.6026 923.8794,-78.0623\"/>\n<polygon fill=\"#000000\" stroke=\"#000000\" points=\"927.2856,-77.2556 921.6824,-68.2637 920.4551,-78.7872 927.2856,-77.2556\"/>\n</g>\n<!-- 17 -->\n<g id=\"node18\" class=\"node\">\n<title>17</title>\n<path fill=\"#e68743\" stroke=\"#000000\" d=\"M1106,-68C1106,-68 1006,-68 1006,-68 1000,-68 994,-62 994,-56 994,-56 994,-12 994,-12 994,-6 1000,0 1006,0 1006,0 1106,0 1106,0 1112,0 1118,-6 1118,-12 1118,-12 1118,-56 1118,-56 1118,-62 1112,-68 1106,-68\"/>\n<text text-anchor=\"middle\" x=\"1056\" y=\"-52.8\" font-family=\"Helvetica,sans-Serif\" font-size=\"14.00\" fill=\"#000000\">gini = 0.092</text>\n<text text-anchor=\"middle\" x=\"1056\" y=\"-37.8\" font-family=\"Helvetica,sans-Serif\" font-size=\"14.00\" fill=\"#000000\">samples = 624</text>\n<text text-anchor=\"middle\" x=\"1056\" y=\"-22.8\" font-family=\"Helvetica,sans-Serif\" font-size=\"14.00\" fill=\"#000000\">value = [594, 30]</text>\n<text text-anchor=\"middle\" x=\"1056\" y=\"-7.8\" font-family=\"Helvetica,sans-Serif\" font-size=\"14.00\" fill=\"#000000\">class = não</text>\n</g>\n<!-- 15&#45;&gt;17 -->\n<g id=\"edge17\" class=\"edge\">\n<title>15&#45;&gt;17</title>\n<path fill=\"none\" stroke=\"#000000\" d=\"M982.5665,-103.9815C992.4034,-94.607 1002.844,-84.6572 1012.6711,-75.2921\"/>\n<polygon fill=\"#000000\" stroke=\"#000000\" points=\"1015.2216,-77.6963 1020.0462,-68.2637 1010.3924,-72.6289 1015.2216,-77.6963\"/>\n</g>\n<!-- 19 -->\n<g id=\"node20\" class=\"node\">\n<title>19</title>\n<path fill=\"#5dafea\" stroke=\"#000000\" d=\"M1287.5,-187C1287.5,-187 1156.5,-187 1156.5,-187 1150.5,-187 1144.5,-181 1144.5,-175 1144.5,-175 1144.5,-116 1144.5,-116 1144.5,-110 1150.5,-104 1156.5,-104 1156.5,-104 1287.5,-104 1287.5,-104 1293.5,-104 1299.5,-110 1299.5,-116 1299.5,-116 1299.5,-175 1299.5,-175 1299.5,-181 1293.5,-187 1287.5,-187\"/>\n<text text-anchor=\"middle\" x=\"1222\" y=\"-171.8\" font-family=\"Helvetica,sans-Serif\" font-size=\"14.00\" fill=\"#000000\">preco &lt;= 100076.957</text>\n<text text-anchor=\"middle\" x=\"1222\" y=\"-156.8\" font-family=\"Helvetica,sans-Serif\" font-size=\"14.00\" fill=\"#000000\">gini = 0.26</text>\n<text text-anchor=\"middle\" x=\"1222\" y=\"-141.8\" font-family=\"Helvetica,sans-Serif\" font-size=\"14.00\" fill=\"#000000\">samples = 26</text>\n<text text-anchor=\"middle\" x=\"1222\" y=\"-126.8\" font-family=\"Helvetica,sans-Serif\" font-size=\"14.00\" fill=\"#000000\">value = [4, 22]</text>\n<text text-anchor=\"middle\" x=\"1222\" y=\"-111.8\" font-family=\"Helvetica,sans-Serif\" font-size=\"14.00\" fill=\"#000000\">class = sim</text>\n</g>\n<!-- 18&#45;&gt;19 -->\n<g id=\"edge19\" class=\"edge\">\n<title>18&#45;&gt;19</title>\n<path fill=\"none\" stroke=\"#000000\" d=\"M1222,-222.8796C1222,-214.6838 1222,-205.9891 1222,-197.5013\"/>\n<polygon fill=\"#000000\" stroke=\"#000000\" points=\"1225.5001,-197.298 1222,-187.2981 1218.5001,-197.2981 1225.5001,-197.298\"/>\n</g>\n<!-- 22 -->\n<g id=\"node23\" class=\"node\">\n<title>22</title>\n<path fill=\"#a3d1f3\" stroke=\"#000000\" d=\"M1489.5,-187C1489.5,-187 1366.5,-187 1366.5,-187 1360.5,-187 1354.5,-181 1354.5,-175 1354.5,-175 1354.5,-116 1354.5,-116 1354.5,-110 1360.5,-104 1366.5,-104 1366.5,-104 1489.5,-104 1489.5,-104 1495.5,-104 1501.5,-110 1501.5,-116 1501.5,-116 1501.5,-175 1501.5,-175 1501.5,-181 1495.5,-187 1489.5,-187\"/>\n<text text-anchor=\"middle\" x=\"1428\" y=\"-171.8\" font-family=\"Helvetica,sans-Serif\" font-size=\"14.00\" fill=\"#000000\">preco &lt;= 100414.02</text>\n<text text-anchor=\"middle\" x=\"1428\" y=\"-156.8\" font-family=\"Helvetica,sans-Serif\" font-size=\"14.00\" fill=\"#000000\">gini = 0.454</text>\n<text text-anchor=\"middle\" x=\"1428\" y=\"-141.8\" font-family=\"Helvetica,sans-Serif\" font-size=\"14.00\" fill=\"#000000\">samples = 655</text>\n<text text-anchor=\"middle\" x=\"1428\" y=\"-126.8\" font-family=\"Helvetica,sans-Serif\" font-size=\"14.00\" fill=\"#000000\">value = [228, 427]</text>\n<text text-anchor=\"middle\" x=\"1428\" y=\"-111.8\" font-family=\"Helvetica,sans-Serif\" font-size=\"14.00\" fill=\"#000000\">class = sim</text>\n</g>\n<!-- 18&#45;&gt;22 -->\n<g id=\"edge22\" class=\"edge\">\n<title>18&#45;&gt;22</title>\n<path fill=\"none\" stroke=\"#000000\" d=\"M1294.0488,-222.8796C1311.1415,-213.0056 1329.4879,-202.4075 1346.9514,-192.3193\"/>\n<polygon fill=\"#000000\" stroke=\"#000000\" points=\"1349.0836,-195.1297 1355.9919,-187.0969 1345.5821,-189.0684 1349.0836,-195.1297\"/>\n</g>\n<!-- 20 -->\n<g id=\"node21\" class=\"node\">\n<title>20</title>\n<path fill=\"#ffffff\" stroke=\"#000000\" d=\"M1223.5,-68C1223.5,-68 1148.5,-68 1148.5,-68 1142.5,-68 1136.5,-62 1136.5,-56 1136.5,-56 1136.5,-12 1136.5,-12 1136.5,-6 1142.5,0 1148.5,0 1148.5,0 1223.5,0 1223.5,0 1229.5,0 1235.5,-6 1235.5,-12 1235.5,-12 1235.5,-56 1235.5,-56 1235.5,-62 1229.5,-68 1223.5,-68\"/>\n<text text-anchor=\"middle\" x=\"1186\" y=\"-52.8\" font-family=\"Helvetica,sans-Serif\" font-size=\"14.00\" fill=\"#000000\">gini = 0.5</text>\n<text text-anchor=\"middle\" x=\"1186\" y=\"-37.8\" font-family=\"Helvetica,sans-Serif\" font-size=\"14.00\" fill=\"#000000\">samples = 6</text>\n<text text-anchor=\"middle\" x=\"1186\" y=\"-22.8\" font-family=\"Helvetica,sans-Serif\" font-size=\"14.00\" fill=\"#000000\">value = [3, 3]</text>\n<text text-anchor=\"middle\" x=\"1186\" y=\"-7.8\" font-family=\"Helvetica,sans-Serif\" font-size=\"14.00\" fill=\"#000000\">class = não</text>\n</g>\n<!-- 19&#45;&gt;20 -->\n<g id=\"edge20\" class=\"edge\">\n<title>19&#45;&gt;20</title>\n<path fill=\"none\" stroke=\"#000000\" d=\"M1208.5949,-103.9815C1205.8353,-95.4342 1202.9212,-86.4086 1200.1365,-77.7839\"/>\n<polygon fill=\"#000000\" stroke=\"#000000\" points=\"1203.466,-76.7046 1197.0627,-68.2637 1196.8046,-78.8554 1203.466,-76.7046\"/>\n</g>\n<!-- 21 -->\n<g id=\"node22\" class=\"node\">\n<title>21</title>\n<path fill=\"#43a2e6\" stroke=\"#000000\" d=\"M1348.5,-68C1348.5,-68 1265.5,-68 1265.5,-68 1259.5,-68 1253.5,-62 1253.5,-56 1253.5,-56 1253.5,-12 1253.5,-12 1253.5,-6 1259.5,0 1265.5,0 1265.5,0 1348.5,0 1348.5,0 1354.5,0 1360.5,-6 1360.5,-12 1360.5,-12 1360.5,-56 1360.5,-56 1360.5,-62 1354.5,-68 1348.5,-68\"/>\n<text text-anchor=\"middle\" x=\"1307\" y=\"-52.8\" font-family=\"Helvetica,sans-Serif\" font-size=\"14.00\" fill=\"#000000\">gini = 0.095</text>\n<text text-anchor=\"middle\" x=\"1307\" y=\"-37.8\" font-family=\"Helvetica,sans-Serif\" font-size=\"14.00\" fill=\"#000000\">samples = 20</text>\n<text text-anchor=\"middle\" x=\"1307\" y=\"-22.8\" font-family=\"Helvetica,sans-Serif\" font-size=\"14.00\" fill=\"#000000\">value = [1, 19]</text>\n<text text-anchor=\"middle\" x=\"1307\" y=\"-7.8\" font-family=\"Helvetica,sans-Serif\" font-size=\"14.00\" fill=\"#000000\">class = sim</text>\n</g>\n<!-- 19&#45;&gt;21 -->\n<g id=\"edge21\" class=\"edge\">\n<title>19&#45;&gt;21</title>\n<path fill=\"none\" stroke=\"#000000\" d=\"M1253.6509,-103.9815C1260.5171,-94.9747 1267.7882,-85.4367 1274.6798,-76.3965\"/>\n<polygon fill=\"#000000\" stroke=\"#000000\" points=\"1277.6005,-78.3383 1280.8797,-68.2637 1272.0336,-74.0945 1277.6005,-78.3383\"/>\n</g>\n<!-- 23 -->\n<g id=\"node24\" class=\"node\">\n<title>23</title>\n<path fill=\"#e58139\" stroke=\"#000000\" d=\"M1465.5,-68C1465.5,-68 1390.5,-68 1390.5,-68 1384.5,-68 1378.5,-62 1378.5,-56 1378.5,-56 1378.5,-12 1378.5,-12 1378.5,-6 1384.5,0 1390.5,0 1390.5,0 1465.5,0 1465.5,0 1471.5,0 1477.5,-6 1477.5,-12 1477.5,-12 1477.5,-56 1477.5,-56 1477.5,-62 1471.5,-68 1465.5,-68\"/>\n<text text-anchor=\"middle\" x=\"1428\" y=\"-52.8\" font-family=\"Helvetica,sans-Serif\" font-size=\"14.00\" fill=\"#000000\">gini = 0.0</text>\n<text text-anchor=\"middle\" x=\"1428\" y=\"-37.8\" font-family=\"Helvetica,sans-Serif\" font-size=\"14.00\" fill=\"#000000\">samples = 3</text>\n<text text-anchor=\"middle\" x=\"1428\" y=\"-22.8\" font-family=\"Helvetica,sans-Serif\" font-size=\"14.00\" fill=\"#000000\">value = [3, 0]</text>\n<text text-anchor=\"middle\" x=\"1428\" y=\"-7.8\" font-family=\"Helvetica,sans-Serif\" font-size=\"14.00\" fill=\"#000000\">class = não</text>\n</g>\n<!-- 22&#45;&gt;23 -->\n<g id=\"edge23\" class=\"edge\">\n<title>22&#45;&gt;23</title>\n<path fill=\"none\" stroke=\"#000000\" d=\"M1428,-103.9815C1428,-95.618 1428,-86.7965 1428,-78.3409\"/>\n<polygon fill=\"#000000\" stroke=\"#000000\" points=\"1431.5001,-78.2636 1428,-68.2637 1424.5001,-78.2637 1431.5001,-78.2636\"/>\n</g>\n<!-- 24 -->\n<g id=\"node25\" class=\"node\">\n<title>24</title>\n<path fill=\"#a1d1f3\" stroke=\"#000000\" d=\"M1616,-68C1616,-68 1508,-68 1508,-68 1502,-68 1496,-62 1496,-56 1496,-56 1496,-12 1496,-12 1496,-6 1502,0 1508,0 1508,0 1616,0 1616,0 1622,0 1628,-6 1628,-12 1628,-12 1628,-56 1628,-56 1628,-62 1622,-68 1616,-68\"/>\n<text text-anchor=\"middle\" x=\"1562\" y=\"-52.8\" font-family=\"Helvetica,sans-Serif\" font-size=\"14.00\" fill=\"#000000\">gini = 0.452</text>\n<text text-anchor=\"middle\" x=\"1562\" y=\"-37.8\" font-family=\"Helvetica,sans-Serif\" font-size=\"14.00\" fill=\"#000000\">samples = 652</text>\n<text text-anchor=\"middle\" x=\"1562\" y=\"-22.8\" font-family=\"Helvetica,sans-Serif\" font-size=\"14.00\" fill=\"#000000\">value = [225, 427]</text>\n<text text-anchor=\"middle\" x=\"1562\" y=\"-7.8\" font-family=\"Helvetica,sans-Serif\" font-size=\"14.00\" fill=\"#000000\">class = sim</text>\n</g>\n<!-- 22&#45;&gt;24 -->\n<g id=\"edge24\" class=\"edge\">\n<title>22&#45;&gt;24</title>\n<path fill=\"none\" stroke=\"#000000\" d=\"M1477.8967,-103.9815C1489.3838,-94.4232 1501.5897,-84.2668 1513.0367,-74.7419\"/>\n<polygon fill=\"#000000\" stroke=\"#000000\" points=\"1515.3739,-77.3503 1520.8221,-68.2637 1510.8965,-71.9695 1515.3739,-77.3503\"/>\n</g>\n</g>\n</svg>\n"
          },
          "metadata": {
            "tags": []
          },
          "execution_count": 43
        }
      ]
    }
  ]
}